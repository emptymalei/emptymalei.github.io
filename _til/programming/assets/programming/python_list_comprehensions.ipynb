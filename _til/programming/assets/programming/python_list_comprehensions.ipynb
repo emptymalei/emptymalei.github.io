{
 "cells": [
  {
   "cell_type": "markdown",
   "metadata": {},
   "source": [
    "## Python List Comprehensions"
   ]
  },
  {
   "cell_type": "markdown",
   "metadata": {},
   "source": [
    "Notes for the article [Python List Comprehensions: Explained Visually](http://treyhunner.com/2015/12/python-list-comprehensions-now-in-color/) by Trey Hunner"
   ]
  },
  {
   "cell_type": "markdown",
   "metadata": {},
   "source": [
    "### Making a List"
   ]
  },
  {
   "cell_type": "markdown",
   "metadata": {},
   "source": [
    "Integrated with loops"
   ]
  },
  {
   "cell_type": "code",
   "execution_count": 1,
   "metadata": {
    "collapsed": false
   },
   "outputs": [
    {
     "name": "stdout",
     "output_type": "stream",
     "text": [
      "[0, 1, 2, 3, 4, 5, 6, 7, 8, 9]\n"
     ]
    }
   ],
   "source": [
    "list_with_for_loop = [x for x in range(10)]\n",
    "print list_with_for_loop"
   ]
  },
  {
   "cell_type": "markdown",
   "metadata": {},
   "source": [
    "Even with conditions in the for loop"
   ]
  },
  {
   "cell_type": "code",
   "execution_count": 2,
   "metadata": {
    "collapsed": false
   },
   "outputs": [
    {
     "name": "stdout",
     "output_type": "stream",
     "text": [
      "[1, 3, 5, 7, 9]\n"
     ]
    }
   ],
   "source": [
    "list_with_for_loop_conditional = [x for x in range(10) if x%2 == 1]\n",
    "print list_with_for_loop_conditional"
   ]
  },
  {
   "cell_type": "markdown",
   "metadata": {},
   "source": [
    "Nested loops in a list"
   ]
  },
  {
   "cell_type": "code",
   "execution_count": 3,
   "metadata": {
    "collapsed": false
   },
   "outputs": [
    {
     "name": "stdout",
     "output_type": "stream",
     "text": [
      "[[0, 0], [0, 1], [0, 2], [1, 0], [1, 1], [1, 2], [2, 0], [2, 1], [2, 2]]\n"
     ]
    }
   ],
   "source": [
    "list_with_nested_loops = [ [x, y] for x in range(3) for y in range(3) ]\n",
    "print list_with_nested_loops"
   ]
  },
  {
   "cell_type": "markdown",
   "metadata": {},
   "source": [
    "Another example of nested loops"
   ]
  },
  {
   "cell_type": "code",
   "execution_count": 4,
   "metadata": {
    "collapsed": false
   },
   "outputs": [
    {
     "name": "stdout",
     "output_type": "stream",
     "text": [
      "[0, 0, 0, 1, 1, 1]\n"
     ]
    }
   ],
   "source": [
    "list_with_nested_loops_2 = [ x for x in range(y) for y in range(3)]\n",
    "print list_with_nested_loops_2"
   ]
  },
  {
   "cell_type": "markdown",
   "metadata": {},
   "source": [
    "[The article](http://treyhunner.com/2015/12/python-list-comprehensions-now-in-color/) gives an example of how to flatten a matrix using this trick. Semantically, one would using"
   ]
  },
  {
   "cell_type": "code",
   "execution_count": 5,
   "metadata": {
    "collapsed": false
   },
   "outputs": [
    {
     "name": "stdout",
     "output_type": "stream",
     "text": [
      "matrix is [[11, 12], [21, 22]]\n",
      "flattened matrix is [1, 1, 2, 2]\n"
     ]
    }
   ],
   "source": [
    "matrix = [[11,12],[21,22]]\n",
    "row = [1,2]\n",
    "wrong_flatten_of_matrix = [x for x in row for row in matrix]\n",
    "print \"matrix is\", matrix\n",
    "print \"flattened matrix is\", wrong_flatten_of_matrix"
   ]
  },
  {
   "cell_type": "markdown",
   "metadata": {},
   "source": [
    "which is obviously **WRONG**. The correct code is given by the author as"
   ]
  },
  {
   "cell_type": "code",
   "execution_count": 6,
   "metadata": {
    "collapsed": false
   },
   "outputs": [
    {
     "name": "stdout",
     "output_type": "stream",
     "text": [
      "matrix is [[11, 12], [21, 22]]\n",
      "flattened matrix is [11, 12, 21, 22]\n"
     ]
    }
   ],
   "source": [
    "right_flatten_of_matrix = [x for row in matrix for x in row]\n",
    "print \"matrix is\", matrix\n",
    "print \"flattened matrix is\", right_flatten_of_matrix"
   ]
  },
  {
   "cell_type": "markdown",
   "metadata": {},
   "source": [
    "**The key is to write the nested loops in a list as the normal nested loops.**"
   ]
  },
  {
   "cell_type": "markdown",
   "metadata": {},
   "source": [
    "With this possible confusion, the author proposed a line breaking solution"
   ]
  },
  {
   "cell_type": "code",
   "execution_count": 7,
   "metadata": {
    "collapsed": false
   },
   "outputs": [
    {
     "name": "stdout",
     "output_type": "stream",
     "text": [
      "matrix is [[11, 12], [21, 22]]\n",
      "flattened matrix is [11, 12, 21, 22]\n"
     ]
    }
   ],
   "source": [
    "right_flatten_of_matrix_line_breaking = [\n",
    "    x \n",
    "    for row in matrix \n",
    "        for x in row\n",
    "]\n",
    "print \"matrix is\", matrix\n",
    "print \"flattened matrix is\", right_flatten_of_matrix_line_breaking"
   ]
  },
  {
   "cell_type": "markdown",
   "metadata": {},
   "source": [
    "which significantly improved the readability."
   ]
  }
 ],
 "metadata": {
  "kernelspec": {
   "display_name": "Python 2",
   "language": "python",
   "name": "python2"
  },
  "language_info": {
   "codemirror_mode": {
    "name": "ipython",
    "version": 2
   },
   "file_extension": ".py",
   "mimetype": "text/x-python",
   "name": "python",
   "nbconvert_exporter": "python",
   "pygments_lexer": "ipython2",
   "version": "2.7.10"
  }
 },
 "nbformat": 4,
 "nbformat_minor": 0
}
